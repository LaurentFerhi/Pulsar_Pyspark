{
  "nbformat": 4,
  "nbformat_minor": 0,
  "metadata": {
    "kernelspec": {
      "display_name": "Python 3",
      "language": "python",
      "name": "python3"
    },
    "language_info": {
      "mimetype": "text/x-python",
      "name": "python",
      "pygments_lexer": "ipython3",
      "codemirror_mode": {
        "name": "ipython",
        "version": 3
      },
      "version": "3.7.6",
      "nbconvert_exporter": "python",
      "file_extension": ".py"
    },
    "name": "Pulsar_Pyspark",
    "notebookId": 1590672582487708,
    "colab": {
      "name": "Pulsar_Pyspark_2.ipynb",
      "provenance": [],
      "collapsed_sections": []
    }
  },
  "cells": [
    {
      "cell_type": "markdown",
      "metadata": {
        "id": "IJV-dcl0Uyub",
        "colab_type": "text"
      },
      "source": [
        "# Pulsar Pyspark\n",
        "https://www.kaggle.com/pavanraj159/predicting-a-pulsar-star"
      ]
    },
    {
      "cell_type": "code",
      "metadata": {
        "id": "lJOu5rHKU69H",
        "colab_type": "code",
        "colab": {
          "base_uri": "https://localhost:8080/",
          "height": 51
        },
        "outputId": "6b091dae-ed4d-44ca-ae8e-3921510eb452"
      },
      "source": [
        "pip install pyspark"
      ],
      "execution_count": 90,
      "outputs": [
        {
          "output_type": "stream",
          "text": [
            "Requirement already satisfied: pyspark in /usr/local/lib/python3.6/dist-packages (3.0.1)\n",
            "Requirement already satisfied: py4j==0.10.9 in /usr/local/lib/python3.6/dist-packages (from pyspark) (0.10.9)\n"
          ],
          "name": "stdout"
        }
      ]
    },
    {
      "cell_type": "code",
      "metadata": {
        "id": "y_cOy2tdUn4u",
        "colab_type": "code",
        "colab": {}
      },
      "source": [
        "from pyspark.sql import SparkSession\n",
        "spark = SparkSession.builder.appName('pulsar').getOrCreate()\n",
        "\n",
        "from pyspark.sql.functions import isnan, when, count, col, udf\n",
        "from pyspark.ml.feature import VectorAssembler, PCA, StandardScaler\n",
        "from pyspark.ml.classification import LinearSVC\n",
        "from pyspark.ml.evaluation import MulticlassClassificationEvaluator\n",
        "from pyspark.ml import Pipeline\n",
        "from pyspark.ml.tuning import CrossValidator, ParamGridBuilder\n",
        "\n",
        "from sklearn.metrics import classification_report\n",
        "\n",
        "import matplotlib.pyplot as plt\n",
        "%matplotlib inline\n",
        "import seaborn as sns\n",
        "sns.set()"
      ],
      "execution_count": 91,
      "outputs": []
    },
    {
      "cell_type": "code",
      "metadata": {
        "id": "PPyT_I9qUn40",
        "colab_type": "code",
        "colab": {}
      },
      "source": [
        "df_1 = spark.read.csv(\"pulsar_data_train.csv\", header=True, inferSchema=True)\n",
        "df_2 = spark.read.csv(\"pulsar_data_test.csv\", header=True, inferSchema=True)"
      ],
      "execution_count": 92,
      "outputs": []
    },
    {
      "cell_type": "code",
      "metadata": {
        "id": "G5lc7mUOUn44",
        "colab_type": "code",
        "colab": {
          "base_uri": "https://localhost:8080/",
          "height": 204
        },
        "outputId": "87c2000f-6d66-4652-82b8-34321e4de1d5"
      },
      "source": [
        "df_1.printSchema()"
      ],
      "execution_count": 93,
      "outputs": [
        {
          "output_type": "stream",
          "text": [
            "root\n",
            " |--  Mean of the integrated profile: double (nullable = true)\n",
            " |--  Standard deviation of the integrated profile: double (nullable = true)\n",
            " |--  Excess kurtosis of the integrated profile: double (nullable = true)\n",
            " |--  Skewness of the integrated profile: double (nullable = true)\n",
            " |--  Mean of the DM-SNR curve: double (nullable = true)\n",
            " |--  Standard deviation of the DM-SNR curve: double (nullable = true)\n",
            " |--  Excess kurtosis of the DM-SNR curve: double (nullable = true)\n",
            " |--  Skewness of the DM-SNR curve: double (nullable = true)\n",
            " |-- target_class: double (nullable = true)\n",
            "\n"
          ],
          "name": "stdout"
        }
      ]
    },
    {
      "cell_type": "code",
      "metadata": {
        "id": "dQO0ofPEUn47",
        "colab_type": "code",
        "colab": {
          "base_uri": "https://localhost:8080/",
          "height": 54
        },
        "outputId": "30897388-6c2f-49af-967b-23e223d57871"
      },
      "source": [
        "df_1.head()"
      ],
      "execution_count": 94,
      "outputs": [
        {
          "output_type": "execute_result",
          "data": {
            "text/plain": [
              "Row( Mean of the integrated profile=121.15625,  Standard deviation of the integrated profile=48.37297113,  Excess kurtosis of the integrated profile=0.375484665,  Skewness of the integrated profile=-0.013165488999999999,  Mean of the DM-SNR curve=3.168896321,  Standard deviation of the DM-SNR curve=18.399366600000004,  Excess kurtosis of the DM-SNR curve=7.449874148999999,  Skewness of the DM-SNR curve=65.15929771, target_class=0.0)"
            ]
          },
          "metadata": {
            "tags": []
          },
          "execution_count": 94
        }
      ]
    },
    {
      "cell_type": "code",
      "metadata": {
        "id": "mogkz2U_Un4_",
        "colab_type": "code",
        "colab": {
          "base_uri": "https://localhost:8080/",
          "height": 204
        },
        "outputId": "4b1d0e6d-e092-4628-f499-adc9493f390e"
      },
      "source": [
        "df_2.printSchema()"
      ],
      "execution_count": 95,
      "outputs": [
        {
          "output_type": "stream",
          "text": [
            "root\n",
            " |--  Mean of the integrated profile: double (nullable = true)\n",
            " |--  Standard deviation of the integrated profile: double (nullable = true)\n",
            " |--  Excess kurtosis of the integrated profile: double (nullable = true)\n",
            " |--  Skewness of the integrated profile: double (nullable = true)\n",
            " |--  Mean of the DM-SNR curve: double (nullable = true)\n",
            " |--  Standard deviation of the DM-SNR curve: double (nullable = true)\n",
            " |--  Excess kurtosis of the DM-SNR curve: double (nullable = true)\n",
            " |--  Skewness of the DM-SNR curve: double (nullable = true)\n",
            " |-- target_class: string (nullable = true)\n",
            "\n"
          ],
          "name": "stdout"
        }
      ]
    },
    {
      "cell_type": "code",
      "metadata": {
        "id": "9YQEtPuWUn5D",
        "colab_type": "code",
        "colab": {
          "base_uri": "https://localhost:8080/",
          "height": 54
        },
        "outputId": "fd634283-3fac-4eae-b59e-bb1417719332"
      },
      "source": [
        "df_1.head()"
      ],
      "execution_count": 96,
      "outputs": [
        {
          "output_type": "execute_result",
          "data": {
            "text/plain": [
              "Row( Mean of the integrated profile=121.15625,  Standard deviation of the integrated profile=48.37297113,  Excess kurtosis of the integrated profile=0.375484665,  Skewness of the integrated profile=-0.013165488999999999,  Mean of the DM-SNR curve=3.168896321,  Standard deviation of the DM-SNR curve=18.399366600000004,  Excess kurtosis of the DM-SNR curve=7.449874148999999,  Skewness of the DM-SNR curve=65.15929771, target_class=0.0)"
            ]
          },
          "metadata": {
            "tags": []
          },
          "execution_count": 96
        }
      ]
    },
    {
      "cell_type": "code",
      "metadata": {
        "id": "cvPKmSTiUn5G",
        "colab_type": "code",
        "colab": {
          "base_uri": "https://localhost:8080/",
          "height": 51
        },
        "outputId": "c733f468-9cf5-4dbe-baf5-459535ca863a"
      },
      "source": [
        "print('Train: Rows: {}, Columns: {}'.format(df_1.count(), len(df_1.columns)))\n",
        "print('Test: Rows: {}, Columns: {}'.format(df_2.count(), len(df_2.columns)))"
      ],
      "execution_count": 97,
      "outputs": [
        {
          "output_type": "stream",
          "text": [
            "Train: Rows: 12528, Columns: 9\n",
            "Test: Rows: 5370, Columns: 9\n"
          ],
          "name": "stdout"
        }
      ]
    },
    {
      "cell_type": "code",
      "metadata": {
        "id": "ttxy_JT4Un5K",
        "colab_type": "code",
        "colab": {
          "base_uri": "https://localhost:8080/",
          "height": 119
        },
        "outputId": "c54a131d-1a27-43de-8ec6-c51be39ca68e"
      },
      "source": [
        "# Check what kind of values are in the test df in target_class\n",
        "df_2.groupby('target_class').count().show()"
      ],
      "execution_count": 98,
      "outputs": [
        {
          "output_type": "stream",
          "text": [
            "+------------+-----+\n",
            "|target_class|count|\n",
            "+------------+-----+\n",
            "|        null| 5370|\n",
            "+------------+-----+\n",
            "\n"
          ],
          "name": "stdout"
        }
      ]
    },
    {
      "cell_type": "code",
      "metadata": {
        "id": "5AfemQf9Un5O",
        "colab_type": "code",
        "colab": {}
      },
      "source": [
        "# Drop entire target_class column in test df\n",
        "df_2 = df_2.drop('target_class')"
      ],
      "execution_count": 99,
      "outputs": []
    },
    {
      "cell_type": "code",
      "metadata": {
        "id": "NgcWMrSkUn5R",
        "colab_type": "code",
        "colab": {
          "base_uri": "https://localhost:8080/",
          "height": 187
        },
        "outputId": "68d7ce33-817a-40d0-a8cf-474e44d0203f"
      },
      "source": [
        "df_2.printSchema()"
      ],
      "execution_count": 100,
      "outputs": [
        {
          "output_type": "stream",
          "text": [
            "root\n",
            " |--  Mean of the integrated profile: double (nullable = true)\n",
            " |--  Standard deviation of the integrated profile: double (nullable = true)\n",
            " |--  Excess kurtosis of the integrated profile: double (nullable = true)\n",
            " |--  Skewness of the integrated profile: double (nullable = true)\n",
            " |--  Mean of the DM-SNR curve: double (nullable = true)\n",
            " |--  Standard deviation of the DM-SNR curve: double (nullable = true)\n",
            " |--  Excess kurtosis of the DM-SNR curve: double (nullable = true)\n",
            " |--  Skewness of the DM-SNR curve: double (nullable = true)\n",
            "\n"
          ],
          "name": "stdout"
        }
      ]
    },
    {
      "cell_type": "code",
      "metadata": {
        "id": "UNL4U94OUn5U",
        "colab_type": "code",
        "colab": {
          "base_uri": "https://localhost:8080/",
          "height": 139
        },
        "outputId": "2d0a042e-5db4-403c-e2a1-26df434c5af2"
      },
      "source": [
        "# Check NaN or Null values in train df\n",
        "df_1.select([count(when(isnan(c) | col(c).isNull(), c)).alias(c) for c in df_1.columns]).show()"
      ],
      "execution_count": 101,
      "outputs": [
        {
          "output_type": "stream",
          "text": [
            "+-------------------------------+---------------------------------------------+------------------------------------------+-----------------------------------+-------------------------+---------------------------------------+------------------------------------+-----------------------------+------------+\n",
            "| Mean of the integrated profile| Standard deviation of the integrated profile| Excess kurtosis of the integrated profile| Skewness of the integrated profile| Mean of the DM-SNR curve| Standard deviation of the DM-SNR curve| Excess kurtosis of the DM-SNR curve| Skewness of the DM-SNR curve|target_class|\n",
            "+-------------------------------+---------------------------------------------+------------------------------------------+-----------------------------------+-------------------------+---------------------------------------+------------------------------------+-----------------------------+------------+\n",
            "|                              0|                                            0|                                      1735|                                  0|                        0|                                   1178|                                   0|                          625|           0|\n",
            "+-------------------------------+---------------------------------------------+------------------------------------------+-----------------------------------+-------------------------+---------------------------------------+------------------------------------+-----------------------------+------------+\n",
            "\n"
          ],
          "name": "stdout"
        }
      ]
    },
    {
      "cell_type": "code",
      "metadata": {
        "id": "ABvBXIHKUn5X",
        "colab_type": "code",
        "colab": {
          "base_uri": "https://localhost:8080/",
          "height": 139
        },
        "outputId": "6d11e340-950a-4026-adfd-ed05e59aeeda"
      },
      "source": [
        "# Check NaN or Null values in test df\n",
        "df_2.select([count(when(isnan(c) | col(c).isNull(), c)).alias(c) for c in df_2.columns]).show()"
      ],
      "execution_count": 102,
      "outputs": [
        {
          "output_type": "stream",
          "text": [
            "+-------------------------------+---------------------------------------------+------------------------------------------+-----------------------------------+-------------------------+---------------------------------------+------------------------------------+-----------------------------+\n",
            "| Mean of the integrated profile| Standard deviation of the integrated profile| Excess kurtosis of the integrated profile| Skewness of the integrated profile| Mean of the DM-SNR curve| Standard deviation of the DM-SNR curve| Excess kurtosis of the DM-SNR curve| Skewness of the DM-SNR curve|\n",
            "+-------------------------------+---------------------------------------------+------------------------------------------+-----------------------------------+-------------------------+---------------------------------------+------------------------------------+-----------------------------+\n",
            "|                              0|                                            0|                                       767|                                  0|                        0|                                    524|                                   0|                          244|\n",
            "+-------------------------------+---------------------------------------------+------------------------------------------+-----------------------------------+-------------------------+---------------------------------------+------------------------------------+-----------------------------+\n",
            "\n"
          ],
          "name": "stdout"
        }
      ]
    },
    {
      "cell_type": "code",
      "metadata": {
        "id": "sy58C4IsUn5a",
        "colab_type": "code",
        "colab": {
          "base_uri": "https://localhost:8080/",
          "height": 51
        },
        "outputId": "882093e0-8ded-428a-8c37-d4f66c14ff71"
      },
      "source": [
        "# Drop entire rows containing na values\n",
        "df_1 = df_1.na.drop()\n",
        "df_2 = df_2.na.drop()\n",
        "\n",
        "# Check number of remaining data\n",
        "print('Train: Rows: {}, Columns: {}'.format(df_1.count(), len(df_1.columns)))\n",
        "print('Test: Rows: {}, Columns: {}'.format(df_2.count(), len(df_2.columns)))"
      ],
      "execution_count": 103,
      "outputs": [
        {
          "output_type": "stream",
          "text": [
            "Train: Rows: 9273, Columns: 9\n",
            "Test: Rows: 3985, Columns: 8\n"
          ],
          "name": "stdout"
        }
      ]
    },
    {
      "cell_type": "code",
      "metadata": {
        "id": "dlUQp35xUn5c",
        "colab_type": "code",
        "colab": {
          "base_uri": "https://localhost:8080/",
          "height": 238
        },
        "outputId": "7ce7ae0e-8137-48a6-866c-bfc9dff6063d"
      },
      "source": [
        "# Display of df train in pandas format\n",
        "df_1.limit(5).toPandas()"
      ],
      "execution_count": 104,
      "outputs": [
        {
          "output_type": "execute_result",
          "data": {
            "text/html": [
              "<div>\n",
              "<style scoped>\n",
              "    .dataframe tbody tr th:only-of-type {\n",
              "        vertical-align: middle;\n",
              "    }\n",
              "\n",
              "    .dataframe tbody tr th {\n",
              "        vertical-align: top;\n",
              "    }\n",
              "\n",
              "    .dataframe thead th {\n",
              "        text-align: right;\n",
              "    }\n",
              "</style>\n",
              "<table border=\"1\" class=\"dataframe\">\n",
              "  <thead>\n",
              "    <tr style=\"text-align: right;\">\n",
              "      <th></th>\n",
              "      <th>Mean of the integrated profile</th>\n",
              "      <th>Standard deviation of the integrated profile</th>\n",
              "      <th>Excess kurtosis of the integrated profile</th>\n",
              "      <th>Skewness of the integrated profile</th>\n",
              "      <th>Mean of the DM-SNR curve</th>\n",
              "      <th>Standard deviation of the DM-SNR curve</th>\n",
              "      <th>Excess kurtosis of the DM-SNR curve</th>\n",
              "      <th>Skewness of the DM-SNR curve</th>\n",
              "      <th>target_class</th>\n",
              "    </tr>\n",
              "  </thead>\n",
              "  <tbody>\n",
              "    <tr>\n",
              "      <th>0</th>\n",
              "      <td>121.156250</td>\n",
              "      <td>48.372971</td>\n",
              "      <td>0.375485</td>\n",
              "      <td>-0.013165</td>\n",
              "      <td>3.168896</td>\n",
              "      <td>18.399367</td>\n",
              "      <td>7.449874</td>\n",
              "      <td>65.159298</td>\n",
              "      <td>0.0</td>\n",
              "    </tr>\n",
              "    <tr>\n",
              "      <th>1</th>\n",
              "      <td>76.968750</td>\n",
              "      <td>36.175557</td>\n",
              "      <td>0.712898</td>\n",
              "      <td>3.388719</td>\n",
              "      <td>2.399666</td>\n",
              "      <td>17.570997</td>\n",
              "      <td>9.414652</td>\n",
              "      <td>102.722975</td>\n",
              "      <td>0.0</td>\n",
              "    </tr>\n",
              "    <tr>\n",
              "      <th>2</th>\n",
              "      <td>130.585938</td>\n",
              "      <td>53.229534</td>\n",
              "      <td>0.133408</td>\n",
              "      <td>-0.297242</td>\n",
              "      <td>2.743311</td>\n",
              "      <td>22.362553</td>\n",
              "      <td>8.508364</td>\n",
              "      <td>74.031324</td>\n",
              "      <td>0.0</td>\n",
              "    </tr>\n",
              "    <tr>\n",
              "      <th>3</th>\n",
              "      <td>84.804688</td>\n",
              "      <td>36.117659</td>\n",
              "      <td>0.825013</td>\n",
              "      <td>3.274125</td>\n",
              "      <td>2.790134</td>\n",
              "      <td>20.618009</td>\n",
              "      <td>8.405008</td>\n",
              "      <td>76.291128</td>\n",
              "      <td>0.0</td>\n",
              "    </tr>\n",
              "    <tr>\n",
              "      <th>4</th>\n",
              "      <td>109.406250</td>\n",
              "      <td>55.912521</td>\n",
              "      <td>0.565106</td>\n",
              "      <td>0.056247</td>\n",
              "      <td>2.797659</td>\n",
              "      <td>19.496527</td>\n",
              "      <td>9.443282</td>\n",
              "      <td>97.374578</td>\n",
              "      <td>0.0</td>\n",
              "    </tr>\n",
              "  </tbody>\n",
              "</table>\n",
              "</div>"
            ],
            "text/plain": [
              "    Mean of the integrated profile  ...  target_class\n",
              "0                       121.156250  ...           0.0\n",
              "1                        76.968750  ...           0.0\n",
              "2                       130.585938  ...           0.0\n",
              "3                        84.804688  ...           0.0\n",
              "4                       109.406250  ...           0.0\n",
              "\n",
              "[5 rows x 9 columns]"
            ]
          },
          "metadata": {
            "tags": []
          },
          "execution_count": 104
        }
      ]
    },
    {
      "cell_type": "code",
      "metadata": {
        "id": "xrKfVQ4BUn5e",
        "colab_type": "code",
        "colab": {
          "base_uri": "https://localhost:8080/",
          "height": 238
        },
        "outputId": "37db3d92-45a0-4bdf-b960-f44ef1acd698"
      },
      "source": [
        "# Show stats on 2 columns\n",
        "df_1.select(' Mean of the integrated profile', ' Standard deviation of the integrated profile').summary().show()"
      ],
      "execution_count": 105,
      "outputs": [
        {
          "output_type": "stream",
          "text": [
            "+-------+-------------------------------+---------------------------------------------+\n",
            "|summary| Mean of the integrated profile| Standard deviation of the integrated profile|\n",
            "+-------+-------------------------------+---------------------------------------------+\n",
            "|  count|                           9273|                                         9273|\n",
            "|   mean|             111.13375020219993|                           46.514052911853746|\n",
            "| stddev|              25.68640537915268|                            6.781319578562155|\n",
            "|    min|                         6.1875|                                  24.77204176|\n",
            "|    25%|                     100.984375|                                  42.39838208|\n",
            "|    50%|                     115.234375|                                  46.89502632|\n",
            "|    75%|                     189.734375|                                   91.8086279|\n",
            "|    max|                     189.734375|                                   91.8086279|\n",
            "+-------+-------------------------------+---------------------------------------------+\n",
            "\n"
          ],
          "name": "stdout"
        }
      ]
    },
    {
      "cell_type": "code",
      "metadata": {
        "id": "oJRpzldcUn5g",
        "colab_type": "code",
        "colab": {
          "base_uri": "https://localhost:8080/",
          "height": 136
        },
        "outputId": "28872bdf-29de-42ac-de41-d57698ab95da"
      },
      "source": [
        "# Number of element in each class\n",
        "df_1.groupBy('target_class').count().show()"
      ],
      "execution_count": 106,
      "outputs": [
        {
          "output_type": "stream",
          "text": [
            "+------------+-----+\n",
            "|target_class|count|\n",
            "+------------+-----+\n",
            "|         0.0| 8423|\n",
            "|         1.0|  850|\n",
            "+------------+-----+\n",
            "\n"
          ],
          "name": "stdout"
        }
      ]
    },
    {
      "cell_type": "code",
      "metadata": {
        "id": "5I3hH9YMUn5i",
        "colab_type": "code",
        "colab": {
          "base_uri": "https://localhost:8080/",
          "height": 136
        },
        "outputId": "c43eb2d7-e1bc-4491-965c-bef73c75d51f"
      },
      "source": [
        "# Mean of 2 features grouped by class\n",
        "df_1.groupBy('target_class').mean(' Mean of the integrated profile', ' Mean of the DM-SNR curve').show()"
      ],
      "execution_count": 107,
      "outputs": [
        {
          "output_type": "stream",
          "text": [
            "+------------+------------------------------------+------------------------------+\n",
            "|target_class|avg( Mean of the integrated profile)|avg( Mean of the DM-SNR curve)|\n",
            "+------------+------------------------------------+------------------------------+\n",
            "|         0.0|                  116.64799878309391|             8.886565869002865|\n",
            "|         1.0|                   56.49079044117647|            50.874638009127025|\n",
            "+------------+------------------------------------+------------------------------+\n",
            "\n"
          ],
          "name": "stdout"
        }
      ]
    },
    {
      "cell_type": "code",
      "metadata": {
        "id": "oqv6vT13W-26",
        "colab_type": "code",
        "colab": {
          "base_uri": "https://localhost:8080/",
          "height": 302
        },
        "outputId": "fbc6eaa8-408d-45f0-9684-e15aea0a89eb"
      },
      "source": [
        "extract_to_plot = df_1.select(' Mean of the integrated profile', ' Mean of the DM-SNR curve', 'target_class').toPandas()\n",
        "sns.scatterplot(data=extract_to_plot, x=' Mean of the integrated profile', y=' Mean of the DM-SNR curve', hue='target_class', alpha = 0.5)"
      ],
      "execution_count": 108,
      "outputs": [
        {
          "output_type": "execute_result",
          "data": {
            "text/plain": [
              "<matplotlib.axes._subplots.AxesSubplot at 0x7f2d51e7ada0>"
            ]
          },
          "metadata": {
            "tags": []
          },
          "execution_count": 108
        },
        {
          "output_type": "display_data",
          "data": {
            "image/png": "[encoded data removed]",
            "text/plain": [
              "<Figure size 432x288 with 1 Axes>"
            ]
          },
          "metadata": {
            "tags": []
          }
        }
      ]
    },
    {
      "cell_type": "code",
      "metadata": {
        "id": "fHUbYKtTUn5n",
        "colab_type": "code",
        "colab": {
          "base_uri": "https://localhost:8080/",
          "height": 224
        },
        "outputId": "c5498250-295f-4d9c-e92a-7879e356aaf1"
      },
      "source": [
        "# Add a literate target name (just to experiment udf)\n",
        "litterate_target = udf(lambda x: 'pulsar' if x == 1 else 'not_pulsar')\n",
        "df_1 = df_1.withColumn('literate_target', litterate_target('target_class'))\n",
        "df_1.show(5)"
      ],
      "execution_count": 109,
      "outputs": [
        {
          "output_type": "stream",
          "text": [
            "+-------------------------------+---------------------------------------------+------------------------------------------+-----------------------------------+-------------------------+---------------------------------------+------------------------------------+-----------------------------+------------+---------------+\n",
            "| Mean of the integrated profile| Standard deviation of the integrated profile| Excess kurtosis of the integrated profile| Skewness of the integrated profile| Mean of the DM-SNR curve| Standard deviation of the DM-SNR curve| Excess kurtosis of the DM-SNR curve| Skewness of the DM-SNR curve|target_class|literate_target|\n",
            "+-------------------------------+---------------------------------------------+------------------------------------------+-----------------------------------+-------------------------+---------------------------------------+------------------------------------+-----------------------------+------------+---------------+\n",
            "|                      121.15625|                                  48.37297113|                               0.375484665|               -0.01316548899999...|              3.168896321|                     18.399366600000004|                   7.449874148999999|                  65.15929771|         0.0|     not_pulsar|\n",
            "|                       76.96875|                                  36.17555664|                                0.71289786|                 3.3887185630000003|              2.399665552|                            17.57099693|                         9.414652256|                  102.7229747|         0.0|     not_pulsar|\n",
            "|                    130.5859375|                                  53.22953353|                               0.133408289|                       -0.297241641|              2.743311037|                            22.36255299|                         8.508363784|            74.03132420000001|         0.0|     not_pulsar|\n",
            "|                     84.8046875|                                  36.11765898|                               0.825012787|                        3.274125373|       2.7901337789999996|                            20.61800857|                         8.405008383|                  76.29112787|         0.0|     not_pulsar|\n",
            "|                      109.40625|                                  55.91252061|                               0.565105947|                        0.056246664|              2.797658863|                            19.49652729|                         9.443282129|                  97.37457842|         0.0|     not_pulsar|\n",
            "+-------------------------------+---------------------------------------------+------------------------------------------+-----------------------------------+-------------------------+---------------------------------------+------------------------------------+-----------------------------+------------+---------------+\n",
            "only showing top 5 rows\n",
            "\n"
          ],
          "name": "stdout"
        }
      ]
    },
    {
      "cell_type": "code",
      "metadata": {
        "id": "fmOMCTdzUn5q",
        "colab_type": "code",
        "colab": {
          "base_uri": "https://localhost:8080/",
          "height": 153
        },
        "outputId": "d60eab7b-3a85-452c-b046-a470e7bdf45e"
      },
      "source": [
        "# find features columns in train df (without target_class and literate_target)\n",
        "df_1.columns[:-2]"
      ],
      "execution_count": 110,
      "outputs": [
        {
          "output_type": "execute_result",
          "data": {
            "text/plain": [
              "[' Mean of the integrated profile',\n",
              " ' Standard deviation of the integrated profile',\n",
              " ' Excess kurtosis of the integrated profile',\n",
              " ' Skewness of the integrated profile',\n",
              " ' Mean of the DM-SNR curve',\n",
              " ' Standard deviation of the DM-SNR curve',\n",
              " ' Excess kurtosis of the DM-SNR curve',\n",
              " ' Skewness of the DM-SNR curve']"
            ]
          },
          "metadata": {
            "tags": []
          },
          "execution_count": 110
        }
      ]
    },
    {
      "cell_type": "code",
      "metadata": {
        "id": "r3EfRd16Un5s",
        "colab_type": "code",
        "colab": {
          "base_uri": "https://localhost:8080/",
          "height": 153
        },
        "outputId": "27291b4c-4ffd-45cf-e517-dd3d0cb0c6d6"
      },
      "source": [
        "# Check columns in test df\n",
        "df_2.columns[:]"
      ],
      "execution_count": 111,
      "outputs": [
        {
          "output_type": "execute_result",
          "data": {
            "text/plain": [
              "[' Mean of the integrated profile',\n",
              " ' Standard deviation of the integrated profile',\n",
              " ' Excess kurtosis of the integrated profile',\n",
              " ' Skewness of the integrated profile',\n",
              " ' Mean of the DM-SNR curve',\n",
              " ' Standard deviation of the DM-SNR curve',\n",
              " ' Excess kurtosis of the DM-SNR curve',\n",
              " ' Skewness of the DM-SNR curve']"
            ]
          },
          "metadata": {
            "tags": []
          },
          "execution_count": 111
        }
      ]
    },
    {
      "cell_type": "code",
      "metadata": {
        "id": "zLC8yfpNUn5u",
        "colab_type": "code",
        "colab": {
          "base_uri": "https://localhost:8080/",
          "height": 204
        },
        "outputId": "7c6fc8f8-d117-4943-ffaf-52c341d5a740"
      },
      "source": [
        "# Build assembler (all features for each df line must be in a vector appearing in 1 column)\n",
        "# The result of the assembler lies in a new output column\n",
        "# The assembler will be called in the ML pipeline\n",
        "assembler = VectorAssembler(inputCols=df_1.columns[:-2], outputCol='features')\n",
        "assembler.transform(df_1).select('features','target_class').show(5, truncate=False)"
      ],
      "execution_count": 112,
      "outputs": [
        {
          "output_type": "stream",
          "text": [
            "+----------------------------------------------------------------------------------------------------------------------+------------+\n",
            "|features                                                                                                              |target_class|\n",
            "+----------------------------------------------------------------------------------------------------------------------+------------+\n",
            "|[121.15625,48.37297113,0.375484665,-0.013165488999999999,3.168896321,18.399366600000004,7.449874148999999,65.15929771]|0.0         |\n",
            "|[76.96875,36.17555664,0.71289786,3.3887185630000003,2.399665552,17.57099693,9.414652256,102.7229747]                  |0.0         |\n",
            "|[130.5859375,53.22953353,0.133408289,-0.297241641,2.743311037,22.36255299,8.508363784,74.03132420000001]              |0.0         |\n",
            "|[84.8046875,36.11765898,0.825012787,3.274125373,2.7901337789999996,20.61800857,8.405008383,76.29112787]               |0.0         |\n",
            "|[109.40625,55.91252061,0.565105947,0.056246664,2.797658863,19.49652729,9.443282129,97.37457842]                       |0.0         |\n",
            "+----------------------------------------------------------------------------------------------------------------------+------------+\n",
            "only showing top 5 rows\n",
            "\n"
          ],
          "name": "stdout"
        }
      ]
    },
    {
      "cell_type": "code",
      "metadata": {
        "id": "4RxsMkwZUn5w",
        "colab_type": "code",
        "colab": {}
      },
      "source": [
        "# Evaluator precises the target column and the kind of metrics to use \n",
        "evaluator = MulticlassClassificationEvaluator(labelCol='target_class', metricName='f1')"
      ],
      "execution_count": 113,
      "outputs": []
    },
    {
      "cell_type": "code",
      "metadata": {
        "id": "9l6hWk_bdn3u",
        "colab_type": "code",
        "colab": {}
      },
      "source": [
        "# Split train set to a ml train set and a validation set\n",
        "df_train, df_test = df_1.randomSplit([0.8, 0.2], seed=42)"
      ],
      "execution_count": 114,
      "outputs": []
    },
    {
      "cell_type": "code",
      "metadata": {
        "id": "vF5wi7FpUn5y",
        "colab_type": "code",
        "colab": {
          "base_uri": "https://localhost:8080/",
          "height": 34
        },
        "outputId": "8a92cdc4-c0fe-48e3-d6f4-61352b7a1138"
      },
      "source": [
        "# Define transformtions stages to throw in the pipeline\n",
        "assembler = VectorAssembler(inputCols=df_1.columns[:-2], outputCol='features')\n",
        "scaler = StandardScaler(inputCol=\"features\", outputCol=\"scaledFeatures\", withStd=True, withMean=True)\n",
        "pca = PCA(inputCol=\"scaledFeatures\", outputCol=\"pcaFeatures\")\n",
        "lsvc = LinearSVC(labelCol='target_class')\n",
        "\n",
        "# Definition of pipeline\n",
        "pipeline_lsvc = Pipeline(stages=[assembler, scaler, pca, lsvc])\n",
        "\n",
        "# Definition of the grid parameters\n",
        "paramGrid = ParamGridBuilder().\\\n",
        "            addGrid(pca.k, [2,5]).\\\n",
        "            addGrid(lsvc.maxIter, [10,100]).\\\n",
        "            addGrid(lsvc.regParam, [0.1,0.01]).\\\n",
        "            build()\n",
        "\n",
        "# Definition of the cross validator\n",
        "cv = CrossValidator(\n",
        "  estimator=pipeline_lsvc,\n",
        "  estimatorParamMaps=paramGrid, \n",
        "  evaluator=evaluator, \n",
        "  numFolds=5)\n",
        "\n",
        "# Train the model\n",
        "model_final = cv.fit(df_train)\n",
        "\n",
        "# Predict classes on test part\n",
        "pred_ml_test = model_final.transform(df_test)\n",
        "evaluator.evaluate(pred_ml_test)"
      ],
      "execution_count": 119,
      "outputs": [
        {
          "output_type": "execute_result",
          "data": {
            "text/plain": [
              "0.9729483801626402"
            ]
          },
          "metadata": {
            "tags": []
          },
          "execution_count": 119
        }
      ]
    },
    {
      "cell_type": "code",
      "metadata": {
        "id": "jMJgA_M4Un50",
        "colab_type": "code",
        "colab": {
          "base_uri": "https://localhost:8080/",
          "height": 170
        },
        "outputId": "5dcc04bb-9a01-4dcb-80e2-3567d6b3b1ac"
      },
      "source": [
        "pred_train_pd = pred_ml_test.toPandas()\n",
        "print(classification_report(pred_train_pd.prediction, pred_train_pd.target_class))"
      ],
      "execution_count": 120,
      "outputs": [
        {
          "output_type": "stream",
          "text": [
            "              precision    recall  f1-score   support\n",
            "\n",
            "         0.0       1.00      0.98      0.99      1682\n",
            "         1.0       0.70      0.96      0.81       101\n",
            "\n",
            "    accuracy                           0.97      1783\n",
            "   macro avg       0.85      0.97      0.90      1783\n",
            "weighted avg       0.98      0.97      0.98      1783\n",
            "\n"
          ],
          "name": "stdout"
        }
      ]
    },
    {
      "cell_type": "code",
      "metadata": {
        "id": "ywKyVxnAUn52",
        "colab_type": "code",
        "colab": {
          "base_uri": "https://localhost:8080/",
          "height": 272
        },
        "outputId": "f0b5a43e-2438-4297-f20d-e10e9d902b3d"
      },
      "source": [
        "pred_test = model_final.transform(df_2)\n",
        "pred_test.printSchema()"
      ],
      "execution_count": 117,
      "outputs": [
        {
          "output_type": "stream",
          "text": [
            "root\n",
            " |--  Mean of the integrated profile: double (nullable = true)\n",
            " |--  Standard deviation of the integrated profile: double (nullable = true)\n",
            " |--  Excess kurtosis of the integrated profile: double (nullable = true)\n",
            " |--  Skewness of the integrated profile: double (nullable = true)\n",
            " |--  Mean of the DM-SNR curve: double (nullable = true)\n",
            " |--  Standard deviation of the DM-SNR curve: double (nullable = true)\n",
            " |--  Excess kurtosis of the DM-SNR curve: double (nullable = true)\n",
            " |--  Skewness of the DM-SNR curve: double (nullable = true)\n",
            " |-- features: vector (nullable = true)\n",
            " |-- scaledFeatures: vector (nullable = true)\n",
            " |-- pcaFeatures: vector (nullable = true)\n",
            " |-- rawPrediction: vector (nullable = true)\n",
            " |-- prediction: double (nullable = false)\n",
            "\n"
          ],
          "name": "stdout"
        }
      ]
    },
    {
      "cell_type": "code",
      "metadata": {
        "id": "Uj2zl2u6Un56",
        "colab_type": "code",
        "colab": {
          "base_uri": "https://localhost:8080/",
          "height": 289
        },
        "outputId": "65ae6631-a4d7-4e7c-a607-bf22dba2196a"
      },
      "source": [
        "pred_test = pred_test.withColumn('literate_target', litterate_target('prediction'))\n",
        "pred_test.select('literate_target').show(10, truncate=False)"
      ],
      "execution_count": 118,
      "outputs": [
        {
          "output_type": "stream",
          "text": [
            "+---------------+\n",
            "|literate_target|\n",
            "+---------------+\n",
            "|not_pulsar     |\n",
            "|pulsar         |\n",
            "|not_pulsar     |\n",
            "|not_pulsar     |\n",
            "|not_pulsar     |\n",
            "|not_pulsar     |\n",
            "|not_pulsar     |\n",
            "|not_pulsar     |\n",
            "|not_pulsar     |\n",
            "|not_pulsar     |\n",
            "+---------------+\n",
            "only showing top 10 rows\n",
            "\n"
          ],
          "name": "stdout"
        }
      ]
    },
    {
      "cell_type": "code",
      "metadata": {
        "id": "TxflIaVUUn57",
        "colab_type": "code",
        "colab": {}
      },
      "source": [
        ""
      ],
      "execution_count": 118,
      "outputs": []
    }
  ]
}